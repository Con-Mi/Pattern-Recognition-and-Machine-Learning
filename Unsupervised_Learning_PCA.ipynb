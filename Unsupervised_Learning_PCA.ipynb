{
  "nbformat": 4,
  "nbformat_minor": 0,
  "metadata": {
    "colab": {
      "name": "Unsupervised Learning - PCA",
      "version": "0.3.2",
      "provenance": [],
      "collapsed_sections": []
    },
    "kernelspec": {
      "name": "python3",
      "display_name": "Python 3"
    }
  },
  "cells": [
    {
      "cell_type": "markdown",
      "metadata": {
        "id": "view-in-github",
        "colab_type": "text"
      },
      "source": [
        "[View in Colaboratory](https://colab.research.google.com/github/Con-Mi/Pattern-Recognition-and-Machine-Learning/blob/master/Unsupervised_Learning_PCA.ipynb)"
      ]
    },
    {
      "metadata": {
        "id": "rHRrPRZbB_sF",
        "colab_type": "text"
      },
      "cell_type": "markdown",
      "source": [
        "## Dimensionality reduction and  clustering with Principal Component Analysis.\n"
      ]
    },
    {
      "metadata": {
        "id": "T8kcLKPXTKm7",
        "colab_type": "text"
      },
      "cell_type": "markdown",
      "source": [
        "## Importind data, amd packages."
      ]
    },
    {
      "metadata": {
        "id": "RrsTXveVRHo7",
        "colab_type": "text"
      },
      "cell_type": "markdown",
      "source": [
        "First I import the necessary packages and a dataset for demonstrating the dimensionality reduction. "
      ]
    },
    {
      "metadata": {
        "id": "Rs3NsHxjB6Uz",
        "colab_type": "code",
        "colab": {}
      },
      "cell_type": "code",
      "source": [
        "from sklearn.datasets import load_iris\n",
        "import numpy as np\n",
        "from matplotlib import pyplot as plt\n",
        "import pandas as pd\n",
        "\n",
        "iris = load_iris()\n",
        "X = iris.data\n",
        "y = iris.target\n",
        "feature_names = iris.feature_names\n",
        "target_names = iris.target_names\n",
        "iris_df = pd.DataFrame(X, columns = feature_names)\n",
        "iris_df['labels'] = y"
      ],
      "execution_count": 0,
      "outputs": []
    },
    {
      "metadata": {
        "id": "Prmcdsb1SrPF",
        "colab_type": "text"
      },
      "cell_type": "markdown",
      "source": [
        "A preview of the data in a frame."
      ]
    },
    {
      "metadata": {
        "id": "aOcsR0ucSy6N",
        "colab_type": "code",
        "colab": {
          "base_uri": "https://localhost:8080/",
          "height": 204
        },
        "outputId": "ff9b225b-bafd-4e7c-ff67-ffca38f447cb"
      },
      "cell_type": "code",
      "source": [
        "iris_df.head()"
      ],
      "execution_count": 176,
      "outputs": [
        {
          "output_type": "execute_result",
          "data": {
            "text/html": [
              "<div>\n",
              "<style scoped>\n",
              "    .dataframe tbody tr th:only-of-type {\n",
              "        vertical-align: middle;\n",
              "    }\n",
              "\n",
              "    .dataframe tbody tr th {\n",
              "        vertical-align: top;\n",
              "    }\n",
              "\n",
              "    .dataframe thead th {\n",
              "        text-align: right;\n",
              "    }\n",
              "</style>\n",
              "<table border=\"1\" class=\"dataframe\">\n",
              "  <thead>\n",
              "    <tr style=\"text-align: right;\">\n",
              "      <th></th>\n",
              "      <th>sepal length (cm)</th>\n",
              "      <th>sepal width (cm)</th>\n",
              "      <th>petal length (cm)</th>\n",
              "      <th>petal width (cm)</th>\n",
              "      <th>labels</th>\n",
              "    </tr>\n",
              "  </thead>\n",
              "  <tbody>\n",
              "    <tr>\n",
              "      <th>0</th>\n",
              "      <td>5.1</td>\n",
              "      <td>3.5</td>\n",
              "      <td>1.4</td>\n",
              "      <td>0.2</td>\n",
              "      <td>0</td>\n",
              "    </tr>\n",
              "    <tr>\n",
              "      <th>1</th>\n",
              "      <td>4.9</td>\n",
              "      <td>3.0</td>\n",
              "      <td>1.4</td>\n",
              "      <td>0.2</td>\n",
              "      <td>0</td>\n",
              "    </tr>\n",
              "    <tr>\n",
              "      <th>2</th>\n",
              "      <td>4.7</td>\n",
              "      <td>3.2</td>\n",
              "      <td>1.3</td>\n",
              "      <td>0.2</td>\n",
              "      <td>0</td>\n",
              "    </tr>\n",
              "    <tr>\n",
              "      <th>3</th>\n",
              "      <td>4.6</td>\n",
              "      <td>3.1</td>\n",
              "      <td>1.5</td>\n",
              "      <td>0.2</td>\n",
              "      <td>0</td>\n",
              "    </tr>\n",
              "    <tr>\n",
              "      <th>4</th>\n",
              "      <td>5.0</td>\n",
              "      <td>3.6</td>\n",
              "      <td>1.4</td>\n",
              "      <td>0.2</td>\n",
              "      <td>0</td>\n",
              "    </tr>\n",
              "  </tbody>\n",
              "</table>\n",
              "</div>"
            ],
            "text/plain": [
              "   sepal length (cm)  sepal width (cm)  petal length (cm)  petal width (cm)  \\\n",
              "0                5.1               3.5                1.4               0.2   \n",
              "1                4.9               3.0                1.4               0.2   \n",
              "2                4.7               3.2                1.3               0.2   \n",
              "3                4.6               3.1                1.5               0.2   \n",
              "4                5.0               3.6                1.4               0.2   \n",
              "\n",
              "   labels  \n",
              "0       0  \n",
              "1       0  \n",
              "2       0  \n",
              "3       0  \n",
              "4       0  "
            ]
          },
          "metadata": {
            "tags": []
          },
          "execution_count": 176
        }
      ]
    },
    {
      "metadata": {
        "id": "rHiWsVObS7aO",
        "colab_type": "text"
      },
      "cell_type": "markdown",
      "source": [
        "## Principal Component Analysis"
      ]
    },
    {
      "metadata": {
        "id": "kIUDIIxlO1Zq",
        "colab_type": "text"
      },
      "cell_type": "markdown",
      "source": [
        "Consider that your data matrix is in the form of $X$ $\\epsilon$ $\\!R^{nxp}$, where $n$ stands for the data samples and $p$ for the columns of the data. The the Covariance matrix of the data is constructed as $Cov(X) = \\frac{1}{n-1} X^TX$.\n",
        "\n",
        "Then the covariance matrix is symmetric and positive semidefinite, which means that its eigenvalues are all $\\lambda_i>=0$.\n",
        "\n",
        "Then the decomposiiton of the matrix $VLV^T>=0$ exists, with an $L$ a diagonal matrix with the eigenvalues of the covariance matrix on its main diagonal. "
      ]
    },
    {
      "metadata": {
        "id": "Z6bDreSbvj2A",
        "colab_type": "code",
        "colab": {}
      },
      "cell_type": "code",
      "source": [
        "# Constructing the Covariance matrix, as specified above.\n",
        "\n",
        "cov_matr = (np.dot(X.T, X)) /(X.shape[0]-1)"
      ],
      "execution_count": 0,
      "outputs": []
    },
    {
      "metadata": {
        "id": "lxXPcVwDfnKc",
        "colab_type": "text"
      },
      "cell_type": "markdown",
      "source": [
        "Then we need to get the eigenvalues and eigenvectors of the Covariance matrix."
      ]
    },
    {
      "metadata": {
        "id": "vVmUfzp6wz0d",
        "colab_type": "code",
        "colab": {}
      },
      "cell_type": "code",
      "source": [
        "# Getting Eigenvalues and Eigenvectors from the Covriance matrix\n",
        "## evalues = eigenvalues\n",
        "## evectors = eigenvectors\n",
        "\n",
        "evalues, evectors = np.linalg.eig(cov_matr)"
      ],
      "execution_count": 0,
      "outputs": []
    },
    {
      "metadata": {
        "id": "XV4YK-E5fzNk",
        "colab_type": "text"
      },
      "cell_type": "markdown",
      "source": [
        "Now the above code will produce four eigenvalues, ranked as highest to lowest, with its corresponding eigenvectors as columns.\n",
        "\n",
        "To get the explained variance of the data from eigenvalues, we can calculate it as:\n",
        "$ V_{percentage} = \\frac{4*(\\lambda_1 + \\lambda_2 +\\lambda_3 +..)}{4*(\\sum_{i \\epsilon \\!N} \\lambda_i)}$"
      ]
    },
    {
      "metadata": {
        "id": "lOqm3GvnbOKy",
        "colab_type": "code",
        "colab": {}
      },
      "cell_type": "code",
      "source": [
        "# evaluating the strength of each principal component from its corresponding eigenvalue\n",
        "\n",
        "explained_variance_ratio = []\n",
        "for i in range(len(evalues)+1):\n",
        "  explained_variance_ratio.append(( 4*np.sum(evalues[0:i]) ) / ( 4*np.sum(evalues) ))  # Produces a list of the Explained Variance ratio."
      ],
      "execution_count": 0,
      "outputs": []
    },
    {
      "metadata": {
        "id": "4tdZHfx3JhCk",
        "colab_type": "code",
        "colab": {
          "base_uri": "https://localhost:8080/",
          "height": 190
        },
        "outputId": "4a4c9a9c-f410-4a01-b9ce-01d475300bf8"
      },
      "cell_type": "code",
      "source": [
        "dictionary = {'One component': explained_variance_ratio[1], 'Two components': explained_variance_ratio[2], 'Three Components': explained_variance_ratio[3], 'Four Components': explained_variance_ratio[4]}\n",
        "comp_df = pd.DataFrame.from_dict(dictionary, orient = 'index')\n",
        "print(\"Eplained Variance with number of Principal Components.\")\n",
        "comp_df.head()  # Making it to a dataframe for visualization purposes. "
      ],
      "execution_count": 158,
      "outputs": [
        {
          "output_type": "stream",
          "text": [
            "Eplained Variance with number of Principal Components.\n"
          ],
          "name": "stdout"
        },
        {
          "output_type": "execute_result",
          "data": {
            "text/html": [
              "<div>\n",
              "<style scoped>\n",
              "    .dataframe tbody tr th:only-of-type {\n",
              "        vertical-align: middle;\n",
              "    }\n",
              "\n",
              "    .dataframe tbody tr th {\n",
              "        vertical-align: top;\n",
              "    }\n",
              "\n",
              "    .dataframe thead th {\n",
              "        text-align: right;\n",
              "    }\n",
              "</style>\n",
              "<table border=\"1\" class=\"dataframe\">\n",
              "  <thead>\n",
              "    <tr style=\"text-align: right;\">\n",
              "      <th></th>\n",
              "      <th>0</th>\n",
              "    </tr>\n",
              "  </thead>\n",
              "  <tbody>\n",
              "    <tr>\n",
              "      <th>One component</th>\n",
              "      <td>0.965430</td>\n",
              "    </tr>\n",
              "    <tr>\n",
              "      <th>Two components</th>\n",
              "      <td>0.998368</td>\n",
              "    </tr>\n",
              "    <tr>\n",
              "      <th>Three Components</th>\n",
              "      <td>0.999630</td>\n",
              "    </tr>\n",
              "    <tr>\n",
              "      <th>Four Components</th>\n",
              "      <td>1.000000</td>\n",
              "    </tr>\n",
              "  </tbody>\n",
              "</table>\n",
              "</div>"
            ],
            "text/plain": [
              "                         0\n",
              "One component     0.965430\n",
              "Two components    0.998368\n",
              "Three Components  0.999630\n",
              "Four Components   1.000000"
            ]
          },
          "metadata": {
            "tags": []
          },
          "execution_count": 158
        }
      ]
    },
    {
      "metadata": {
        "id": "y68UEvNQHAMr",
        "colab_type": "code",
        "colab": {
          "base_uri": "https://localhost:8080/",
          "height": 376
        },
        "outputId": "8fd4ba1f-1893-478f-b9d0-bc104ba73a21"
      },
      "cell_type": "code",
      "source": [
        "# Plotting the Variance with the number of components.\n",
        "\n",
        "x_axis = range(5)\n",
        "plt.figure()\n",
        "plt.plot(x_axis, explained_variance_ratio[1:])\n",
        "plt.axvline(1, linestyle = '--', c = 'navy', label = 'Using One Component')\n",
        "plt.axvline(2, linestyle = '--', c = 'orange', label = 'Using Two Components')\n",
        "plt.axvline(3, linestyle = '--', c = 'red', label = 'Using Three Components')\n",
        "plt.xlabel(\"Numer of Components\")\n",
        "plt.ylabel(\"Explained Variance ratio, Percentage.\")\n",
        "plt.title(\"Variance Ratio with Number of Components.\")\n",
        "plt.legend()\n",
        "plt.show()"
      ],
      "execution_count": 164,
      "outputs": [
        {
          "output_type": "display_data",
          "data": {
            "image/png": "[encoded data removed]",
            "text/plain": [
              "<matplotlib.figure.Figure at 0x7f717d4df7f0>"
            ]
          },
          "metadata": {
            "tags": []
          }
        }
      ]
    },
    {
      "metadata": {
        "id": "beGjDUm2UJpa",
        "colab_type": "text"
      },
      "cell_type": "markdown",
      "source": [
        "## Plotting results of the dimensionality reduction."
      ]
    },
    {
      "metadata": {
        "id": "p0-N4Aydhmv1",
        "colab_type": "text"
      },
      "cell_type": "markdown",
      "source": [
        "Now that we have an idea of the components, we can select how many we want. I select the first two principal components, and produce scatter plots of them. The first two components give ~0.99% of explained variance.\n",
        "\n",
        "The first two components are given as:\n",
        "\n",
        "  1st Component : $PC_1 = X * V[0]$ , which is the eigenvector that corresponds to the highest eiganvalue.\n",
        "  \n",
        "  2nd Component : $PC_2 = X * V[1]$ , which is the eigenvector that corresponds to the second highest eiganvalue."
      ]
    },
    {
      "metadata": {
        "id": "18xtHd-NxEor",
        "colab_type": "code",
        "colab": {}
      },
      "cell_type": "code",
      "source": [
        "# Projections of the data X to the first and second principal component.\n",
        "\n",
        "firs_pc = np.dot(X, evectors[:, 0])  # First Component\n",
        "sec_pc = np.dot(X, evectors[:, 1])   # Second Component"
      ],
      "execution_count": 0,
      "outputs": []
    },
    {
      "metadata": {
        "id": "v-3C7DxsURW1",
        "colab_type": "text"
      },
      "cell_type": "markdown",
      "source": [
        "First I plot the first two principal components, as a scatter plot."
      ]
    },
    {
      "metadata": {
        "id": "Zp22HBj_oyFk",
        "colab_type": "code",
        "colab": {
          "base_uri": "https://localhost:8080/",
          "height": 376
        },
        "outputId": "74584bee-6476-4dc5-8d39-a271880d512f"
      },
      "cell_type": "code",
      "source": [
        "plt.figure()\n",
        "colors = ['navy', 'turquoise', 'darkorange']\n",
        "lw = 2\n",
        "\n",
        "for color, i, target_name in zip(colors, [0, 1, 2], iris.target_names):\n",
        "    plt.scatter(firs_pc[y == i], sec_pc[y == i], color=color, alpha=.8, lw=lw,\n",
        "                label=target_name)\n",
        "plt.legend(loc='best', shadow=False, scatterpoints=1)\n",
        "plt.xlabel(\"First Principal Component\")\n",
        "plt.ylabel(\"Second Principal Componemt\")\n",
        "plt.title(\"Projection of the first two Principal Components.\")\n",
        "plt.show()"
      ],
      "execution_count": 67,
      "outputs": [
        {
          "output_type": "display_data",
          "data": {
            "image/png": "[encoded data removed]",
            "text/plain": [
              "<matplotlib.figure.Figure at 0x7f717e0d9048>"
            ]
          },
          "metadata": {
            "tags": []
          }
        }
      ]
    },
    {
      "metadata": {
        "id": "fos4N652UfGj",
        "colab_type": "text"
      },
      "cell_type": "markdown",
      "source": [
        "Since just one component gives 96% of the explained variance, then I just plot one component to see if the method produces meaningful results."
      ]
    },
    {
      "metadata": {
        "id": "NtOutK9oq4rJ",
        "colab_type": "code",
        "colab": {
          "base_uri": "https://localhost:8080/",
          "height": 376
        },
        "outputId": "eb9eb03c-d257-418f-896e-5c670cfabbec"
      },
      "cell_type": "code",
      "source": [
        "plt.figure()\n",
        "colors = ['navy', 'turquoise', 'darkorange']\n",
        "lw = 2\n",
        "\n",
        "s_pc = np.zeros(150)\n",
        "\n",
        "for color, i, target_name in zip(colors, [0, 1, 2], iris.target_names):\n",
        "    plt.scatter(firs_pc[y == i], s_pc[y==i], color=color, alpha=.2, lw=lw,\n",
        "                label=target_name)\n",
        "plt.legend(loc='best', shadow=False, scatterpoints=1)\n",
        "plt.xlabel(\"First Principal Component\")\n",
        "plt.title(\"Projection of the First Principal Component.\")\n",
        "plt.show()"
      ],
      "execution_count": 68,
      "outputs": [
        {
          "output_type": "display_data",
          "data": {
            "image/png": "[encoded data removed]",
            "text/plain": [
              "<matplotlib.figure.Figure at 0x7f717e5cacf8>"
            ]
          },
          "metadata": {
            "tags": []
          }
        }
      ]
    },
    {
      "metadata": {
        "id": "8gMYloIRjMdc",
        "colab_type": "text"
      },
      "cell_type": "markdown",
      "source": [
        "In practice Covariance matrix construction and eigenvalue decomposition is never used du to its computational complexity. More advanced iterative methods are considered. "
      ]
    },
    {
      "metadata": {
        "id": "kuOayQopjtzR",
        "colab_type": "text"
      },
      "cell_type": "markdown",
      "source": [
        "## Using ready made software for Principal Component Analysis."
      ]
    },
    {
      "metadata": {
        "id": "FPZTDpeijLid",
        "colab_type": "code",
        "colab": {}
      },
      "cell_type": "code",
      "source": [
        "from sklearn.decomposition import PCA   # The sklearn package contains various machine learning algorithms.\n",
        "from sklearn.datasets import load_wine\n",
        "from sklearn.preprocessing import StandardScaler\n",
        "import pandas as pd\n",
        "\n",
        "\n",
        "wine_data = load_wine() # load wine data\n",
        "X_wine = wine_data.data\n",
        "y_wine = wine_data.target\n",
        "wine_target_names = wine_data.target_names\n",
        "wine_feature_names = wine_data.feature_names\n",
        "wine_df = pd.DataFrame(X_wine, columns=wine_feature_names)\n",
        "wine_df['labels'] = y_wine"
      ],
      "execution_count": 0,
      "outputs": []
    },
    {
      "metadata": {
        "id": "00GLiUe9kKgU",
        "colab_type": "code",
        "colab": {
          "base_uri": "https://localhost:8080/",
          "height": 51
        },
        "outputId": "bff152f1-aeef-4ba2-970d-1b43890447cc"
      },
      "cell_type": "code",
      "source": [
        "print(\"Wine Classification Labels.\")\n",
        "print(wine_target_names)"
      ],
      "execution_count": 191,
      "outputs": [
        {
          "output_type": "stream",
          "text": [
            "Wine Classification Labels.\n",
            "['class_0' 'class_1' 'class_2']\n"
          ],
          "name": "stdout"
        }
      ]
    },
    {
      "metadata": {
        "id": "YJOYZ_L-k-bV",
        "colab_type": "code",
        "colab": {
          "base_uri": "https://localhost:8080/",
          "height": 221
        },
        "outputId": "b314c2ef-bc85-448d-cf92-039774a06b05"
      },
      "cell_type": "code",
      "source": [
        "print(\"A view of the data.\")\n",
        "wine_df.head()"
      ],
      "execution_count": 192,
      "outputs": [
        {
          "output_type": "stream",
          "text": [
            "A view of the data.\n"
          ],
          "name": "stdout"
        },
        {
          "output_type": "execute_result",
          "data": {
            "text/html": [
              "<div>\n",
              "<style scoped>\n",
              "    .dataframe tbody tr th:only-of-type {\n",
              "        vertical-align: middle;\n",
              "    }\n",
              "\n",
              "    .dataframe tbody tr th {\n",
              "        vertical-align: top;\n",
              "    }\n",
              "\n",
              "    .dataframe thead th {\n",
              "        text-align: right;\n",
              "    }\n",
              "</style>\n",
              "<table border=\"1\" class=\"dataframe\">\n",
              "  <thead>\n",
              "    <tr style=\"text-align: right;\">\n",
              "      <th></th>\n",
              "      <th>alcohol</th>\n",
              "      <th>malic_acid</th>\n",
              "      <th>ash</th>\n",
              "      <th>alcalinity_of_ash</th>\n",
              "      <th>magnesium</th>\n",
              "      <th>total_phenols</th>\n",
              "      <th>flavanoids</th>\n",
              "      <th>nonflavanoid_phenols</th>\n",
              "      <th>proanthocyanins</th>\n",
              "      <th>color_intensity</th>\n",
              "      <th>hue</th>\n",
              "      <th>od280/od315_of_diluted_wines</th>\n",
              "      <th>proline</th>\n",
              "      <th>labels</th>\n",
              "    </tr>\n",
              "  </thead>\n",
              "  <tbody>\n",
              "    <tr>\n",
              "      <th>0</th>\n",
              "      <td>14.23</td>\n",
              "      <td>1.71</td>\n",
              "      <td>2.43</td>\n",
              "      <td>15.6</td>\n",
              "      <td>127.0</td>\n",
              "      <td>2.80</td>\n",
              "      <td>3.06</td>\n",
              "      <td>0.28</td>\n",
              "      <td>2.29</td>\n",
              "      <td>5.64</td>\n",
              "      <td>1.04</td>\n",
              "      <td>3.92</td>\n",
              "      <td>1065.0</td>\n",
              "      <td>0</td>\n",
              "    </tr>\n",
              "    <tr>\n",
              "      <th>1</th>\n",
              "      <td>13.20</td>\n",
              "      <td>1.78</td>\n",
              "      <td>2.14</td>\n",
              "      <td>11.2</td>\n",
              "      <td>100.0</td>\n",
              "      <td>2.65</td>\n",
              "      <td>2.76</td>\n",
              "      <td>0.26</td>\n",
              "      <td>1.28</td>\n",
              "      <td>4.38</td>\n",
              "      <td>1.05</td>\n",
              "      <td>3.40</td>\n",
              "      <td>1050.0</td>\n",
              "      <td>0</td>\n",
              "    </tr>\n",
              "    <tr>\n",
              "      <th>2</th>\n",
              "      <td>13.16</td>\n",
              "      <td>2.36</td>\n",
              "      <td>2.67</td>\n",
              "      <td>18.6</td>\n",
              "      <td>101.0</td>\n",
              "      <td>2.80</td>\n",
              "      <td>3.24</td>\n",
              "      <td>0.30</td>\n",
              "      <td>2.81</td>\n",
              "      <td>5.68</td>\n",
              "      <td>1.03</td>\n",
              "      <td>3.17</td>\n",
              "      <td>1185.0</td>\n",
              "      <td>0</td>\n",
              "    </tr>\n",
              "    <tr>\n",
              "      <th>3</th>\n",
              "      <td>14.37</td>\n",
              "      <td>1.95</td>\n",
              "      <td>2.50</td>\n",
              "      <td>16.8</td>\n",
              "      <td>113.0</td>\n",
              "      <td>3.85</td>\n",
              "      <td>3.49</td>\n",
              "      <td>0.24</td>\n",
              "      <td>2.18</td>\n",
              "      <td>7.80</td>\n",
              "      <td>0.86</td>\n",
              "      <td>3.45</td>\n",
              "      <td>1480.0</td>\n",
              "      <td>0</td>\n",
              "    </tr>\n",
              "    <tr>\n",
              "      <th>4</th>\n",
              "      <td>13.24</td>\n",
              "      <td>2.59</td>\n",
              "      <td>2.87</td>\n",
              "      <td>21.0</td>\n",
              "      <td>118.0</td>\n",
              "      <td>2.80</td>\n",
              "      <td>2.69</td>\n",
              "      <td>0.39</td>\n",
              "      <td>1.82</td>\n",
              "      <td>4.32</td>\n",
              "      <td>1.04</td>\n",
              "      <td>2.93</td>\n",
              "      <td>735.0</td>\n",
              "      <td>0</td>\n",
              "    </tr>\n",
              "  </tbody>\n",
              "</table>\n",
              "</div>"
            ],
            "text/plain": [
              "   alcohol  malic_acid   ash  alcalinity_of_ash  magnesium  total_phenols  \\\n",
              "0    14.23        1.71  2.43               15.6      127.0           2.80   \n",
              "1    13.20        1.78  2.14               11.2      100.0           2.65   \n",
              "2    13.16        2.36  2.67               18.6      101.0           2.80   \n",
              "3    14.37        1.95  2.50               16.8      113.0           3.85   \n",
              "4    13.24        2.59  2.87               21.0      118.0           2.80   \n",
              "\n",
              "   flavanoids  nonflavanoid_phenols  proanthocyanins  color_intensity   hue  \\\n",
              "0        3.06                  0.28             2.29             5.64  1.04   \n",
              "1        2.76                  0.26             1.28             4.38  1.05   \n",
              "2        3.24                  0.30             2.81             5.68  1.03   \n",
              "3        3.49                  0.24             2.18             7.80  0.86   \n",
              "4        2.69                  0.39             1.82             4.32  1.04   \n",
              "\n",
              "   od280/od315_of_diluted_wines  proline  labels  \n",
              "0                          3.92   1065.0       0  \n",
              "1                          3.40   1050.0       0  \n",
              "2                          3.17   1185.0       0  \n",
              "3                          3.45   1480.0       0  \n",
              "4                          2.93    735.0       0  "
            ]
          },
          "metadata": {
            "tags": []
          },
          "execution_count": 192
        }
      ]
    },
    {
      "metadata": {
        "id": "lzVGCFdvpJRM",
        "colab_type": "code",
        "colab": {}
      },
      "cell_type": "code",
      "source": [
        "std_scale = StandardScaler()  # Specifying the standard scaler function.\n",
        "pca_ = PCA()\n",
        "X_reduced_ = pca_.fit(std_scale.fit_transform(X_wine))"
      ],
      "execution_count": 0,
      "outputs": []
    },
    {
      "metadata": {
        "id": "ZcmMN514pS6d",
        "colab_type": "code",
        "colab": {
          "base_uri": "https://localhost:8080/",
          "height": 85
        },
        "outputId": "5be29cb4-a373-4b61-b08e-3b7c6b74c3c8"
      },
      "cell_type": "code",
      "source": [
        "print(\"Printing the strength of each component.\")\n",
        "print(X_reduced_.explained_variance_ratio_)"
      ],
      "execution_count": 212,
      "outputs": [
        {
          "output_type": "stream",
          "text": [
            "Printing the strength of each component\n",
            "[0.36198848 0.1920749  0.11123631 0.0706903  0.06563294 0.04935823\n",
            " 0.04238679 0.02680749 0.02222153 0.01930019 0.01736836 0.01298233\n",
            " 0.00795215]\n"
          ],
          "name": "stdout"
        }
      ]
    },
    {
      "metadata": {
        "id": "E4F3WYRlppc9",
        "colab_type": "code",
        "colab": {
          "base_uri": "https://localhost:8080/",
          "height": 393
        },
        "outputId": "253ce586-108b-4d98-841e-d43ad9a3223a"
      },
      "cell_type": "code",
      "source": [
        "explained_var_ratio = []\n",
        "add_sum = 0\n",
        "for tmp_var in X_reduced_.explained_variance_ratio_:\n",
        "  add_sum += tmp_var\n",
        "  explained_var_ratio.append(add_sum) # I am incrementing the sum and add it to the list.\n",
        "\n",
        "# Ploting the strength of components.\n",
        "\n",
        "plt.plot(explained_var_ratio)\n",
        "plt.xlabel(\"Number of Components.\")\n",
        "plt.ylabel(\"Explained Variance ratio.\")\n",
        "plt.title(\"Ploting the strength of components\")"
      ],
      "execution_count": 214,
      "outputs": [
        {
          "output_type": "execute_result",
          "data": {
            "text/plain": [
              "Text(0.5,1,'Ploting the strength of components')"
            ]
          },
          "metadata": {
            "tags": []
          },
          "execution_count": 214
        },
        {
          "output_type": "display_data",
          "data": {
            "image/png": "[encoded data removed]",
            "text/plain": [
              "<matplotlib.figure.Figure at 0x7f717d9376d8>"
            ]
          },
          "metadata": {
            "tags": []
          }
        }
      ]
    },
    {
      "metadata": {
        "id": "fQYDIhexqwim",
        "colab_type": "code",
        "colab": {
          "base_uri": "https://localhost:8080/",
          "height": 438
        },
        "outputId": "ac893d03-d5af-4869-c2e0-6037942e18de"
      },
      "cell_type": "code",
      "source": [
        "dictionary_ = dict({\"1 Component\": explained_var_ratio[0], \"2 Component\": explained_var_ratio[1], \"3 Component\": explained_var_ratio[2] , \"4 Component\": explained_var_ratio[3] , \"5 Component\": explained_var_ratio[4] , \"6 Component\": explained_var_ratio[5] , \"7 Component\": explained_var_ratio[6] , \"8 Component\": explained_var_ratio[7] , \"9 Component\": explained_var_ratio[8] , \"10 Component\": explained_var_ratio[9], \"11 Component\": explained_var_ratio[10], \"12 Components\": explained_var_ratio[-1]})\n",
        "expl_var_df = pd.DataFrame.from_dict(dictionary_, orient = 'index')\n",
        "print(\"Eplained Variance with number of Principal Components.\")\n",
        "expl_var_df  # Making it to a dataframe for visualization purposes. "
      ],
      "execution_count": 219,
      "outputs": [
        {
          "output_type": "stream",
          "text": [
            "Eplained Variance with number of Principal Components.\n"
          ],
          "name": "stdout"
        },
        {
          "output_type": "execute_result",
          "data": {
            "text/html": [
              "<div>\n",
              "<style scoped>\n",
              "    .dataframe tbody tr th:only-of-type {\n",
              "        vertical-align: middle;\n",
              "    }\n",
              "\n",
              "    .dataframe tbody tr th {\n",
              "        vertical-align: top;\n",
              "    }\n",
              "\n",
              "    .dataframe thead th {\n",
              "        text-align: right;\n",
              "    }\n",
              "</style>\n",
              "<table border=\"1\" class=\"dataframe\">\n",
              "  <thead>\n",
              "    <tr style=\"text-align: right;\">\n",
              "      <th></th>\n",
              "      <th>0</th>\n",
              "    </tr>\n",
              "  </thead>\n",
              "  <tbody>\n",
              "    <tr>\n",
              "      <th>1 Component</th>\n",
              "      <td>0.361988</td>\n",
              "    </tr>\n",
              "    <tr>\n",
              "      <th>2 Component</th>\n",
              "      <td>0.554063</td>\n",
              "    </tr>\n",
              "    <tr>\n",
              "      <th>3 Component</th>\n",
              "      <td>0.665300</td>\n",
              "    </tr>\n",
              "    <tr>\n",
              "      <th>4 Component</th>\n",
              "      <td>0.735990</td>\n",
              "    </tr>\n",
              "    <tr>\n",
              "      <th>5 Component</th>\n",
              "      <td>0.801623</td>\n",
              "    </tr>\n",
              "    <tr>\n",
              "      <th>6 Component</th>\n",
              "      <td>0.850981</td>\n",
              "    </tr>\n",
              "    <tr>\n",
              "      <th>7 Component</th>\n",
              "      <td>0.893368</td>\n",
              "    </tr>\n",
              "    <tr>\n",
              "      <th>8 Component</th>\n",
              "      <td>0.920175</td>\n",
              "    </tr>\n",
              "    <tr>\n",
              "      <th>9 Component</th>\n",
              "      <td>0.942397</td>\n",
              "    </tr>\n",
              "    <tr>\n",
              "      <th>10 Component</th>\n",
              "      <td>0.961697</td>\n",
              "    </tr>\n",
              "    <tr>\n",
              "      <th>11 Component</th>\n",
              "      <td>0.979066</td>\n",
              "    </tr>\n",
              "    <tr>\n",
              "      <th>12 Components</th>\n",
              "      <td>1.000000</td>\n",
              "    </tr>\n",
              "  </tbody>\n",
              "</table>\n",
              "</div>"
            ],
            "text/plain": [
              "                      0\n",
              "1 Component    0.361988\n",
              "2 Component    0.554063\n",
              "3 Component    0.665300\n",
              "4 Component    0.735990\n",
              "5 Component    0.801623\n",
              "6 Component    0.850981\n",
              "7 Component    0.893368\n",
              "8 Component    0.920175\n",
              "9 Component    0.942397\n",
              "10 Component   0.961697\n",
              "11 Component   0.979066\n",
              "12 Components  1.000000"
            ]
          },
          "metadata": {
            "tags": []
          },
          "execution_count": 219
        }
      ]
    },
    {
      "metadata": {
        "id": "MaZxoteElGSt",
        "colab_type": "code",
        "colab": {}
      },
      "cell_type": "code",
      "source": [
        "pca = PCA(n_components = 2)   # Specifying how many components I need from the data.\n",
        "X_reduced = pca.fit_transform(std_scale.fit_transform(X_wine)) # Here I am scaling the data by removing the mean and zero variance."
      ],
      "execution_count": 0,
      "outputs": []
    },
    {
      "metadata": {
        "id": "fSYSUSljlZm8",
        "colab_type": "code",
        "colab": {
          "base_uri": "https://localhost:8080/",
          "height": 376
        },
        "outputId": "7a81a232-ba74-4a92-dbcc-2e9867f3f4f3"
      },
      "cell_type": "code",
      "source": [
        "plt.figure()\n",
        "colors = ['red', 'orange', 'black']\n",
        "lw = 2\n",
        "\n",
        "for color, i, target_name in zip(colors, [0, 1, 2], wine_target_names):\n",
        "    plt.scatter(X_reduced[y_wine == i, 0], X_reduced[y_wine == i, 1], color=color, alpha=.4, lw=lw,\n",
        "                label=target_name)\n",
        "plt.title(\"Dimensionality reduction of the wine data using PCA.\")\n",
        "plt.xlabel(\"First Principal Component.\")\n",
        "plt.ylabel(\"Second Principal Component.\")\n",
        "plt.legend()\n",
        "plt.show()"
      ],
      "execution_count": 207,
      "outputs": [
        {
          "output_type": "display_data",
          "data": {
            "image/png": "[encoded data removed]",
            "text/plain": [
              "<matplotlib.figure.Figure at 0x7f717d597f98>"
            ]
          },
          "metadata": {
            "tags": []
          }
        }
      ]
    }
  ]
}